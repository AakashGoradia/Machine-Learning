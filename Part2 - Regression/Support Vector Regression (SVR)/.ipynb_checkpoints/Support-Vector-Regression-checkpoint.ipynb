{
 "cells": [
  {
   "cell_type": "code",
   "execution_count": null,
   "id": "554eeba9",
   "metadata": {},
   "outputs": [],
   "source": [
    "#1.Support Vector Machines supports both linear and non-linear.\n",
    "#2.Performs linear regression in higher (dimensional space).\n",
    "#3.SVR is a street that tries to fit as many instances of data points as possible, where epsilon represents the width of the street.\n",
    "#4.Work of SVM is to approximate the function used to generate the training set.\n",
    "#5.The vectors closest to our test point are referred to as support vectors.\n",
    "#6.Building a SVR:\n",
    "# a)Collecting a training set.\n",
    "# b) Choosing a kernel and any regularization needed.\n",
    "# c)Forming the co-relation matrix.\n",
    "# d)Training the machine and getting contraction co-efficients.\n",
    "# e)Using those co-efficients to create estimator.\n",
    "\n",
    "##Choosing Kernel - Gaussian\n",
    "##Regularization - Noise\n",
    "\n",
    "#Linear Regression Goal: Minimizing the error between prediction and auctual data.\n",
    "#Support Vector Regression Goal: To make sure that errors do not exceed the threshold(epsilon).\n",
    "\n",
    "#SVR is an extension of SVM"
   ]
  }
 ],
 "metadata": {
  "kernelspec": {
   "display_name": "Python 3",
   "language": "python",
   "name": "python3"
  },
  "language_info": {
   "codemirror_mode": {
    "name": "ipython",
    "version": 3
   },
   "file_extension": ".py",
   "mimetype": "text/x-python",
   "name": "python",
   "nbconvert_exporter": "python",
   "pygments_lexer": "ipython3",
   "version": "3.8.8"
  }
 },
 "nbformat": 4,
 "nbformat_minor": 5
}
