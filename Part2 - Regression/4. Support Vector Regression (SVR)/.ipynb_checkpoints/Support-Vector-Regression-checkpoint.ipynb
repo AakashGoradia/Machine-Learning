{
 "cells": [
  {
   "cell_type": "code",
   "execution_count": 42,
   "id": "554eeba9",
   "metadata": {},
   "outputs": [],
   "source": [
    "#1.Support Vector Machines supports both linear and non-linear.\n",
    "#2.Performs linear regression in higher (dimensional space).\n",
    "#3.SVR is a street that tries to fit as many instances of data points as possible, where epsilon represents the width of the street.\n",
    "#4.Work of SVM is to approximate the function used to generate the training set.\n",
    "#5.The vectors closest to our test point are referred to as support vectors.\n",
    "#6.Building a SVR:\n",
    "# a)Collecting a training set.\n",
    "# b)Choosing a kernel and any regularization needed.\n",
    "# c)Forming the co-relation matrix.\n",
    "# d)Training the machine and getting contraction co-efficients.\n",
    "# e)Using those co-efficients to create estimator.\n",
    "\n",
    "##Choosing Kernel - Gaussian\n",
    "##Regularization - Noise\n",
    "\n",
    "#Linear Regression Goal: Minimizing the error between prediction and auctual data.\n",
    "#Support Vector Regression Goal: To make sure that errors do not exceed the threshold(epsilon).\n",
    "\n",
    "#SVR is an extension of SVM"
   ]
  },
  {
   "cell_type": "code",
   "execution_count": 43,
   "id": "ec39bd7a",
   "metadata": {},
   "outputs": [],
   "source": [
    "#STEP 1 - Data Pre-processing\n",
    "\n",
    "#importing libraries\n",
    "import numpy as np\n",
    "import matplotlib.pyplot as plt\n",
    "import pandas as pd"
   ]
  },
  {
   "cell_type": "code",
   "execution_count": 44,
   "id": "5a2ad41d",
   "metadata": {},
   "outputs": [],
   "source": [
    "#importing dataset\n",
    "dataset = pd.read_csv(r\"C:\\Users\\aakas\\OneDrive\\Desktop\\AAKASH GORADIA\\AAKASH GORADIA'S DRIVE\\CAREER\\LEARNING\\COURSES\\A-Z Machine Learning\\MyNotebooks\\Machine-Learning\\Part2 - Regression\\5. Decision Tree Regression\\Position_Salaries.csv\")"
   ]
  },
  {
   "cell_type": "code",
   "execution_count": 45,
   "id": "5afd85b4",
   "metadata": {},
   "outputs": [
    {
     "data": {
      "text/html": [
       "<div>\n",
       "<style scoped>\n",
       "    .dataframe tbody tr th:only-of-type {\n",
       "        vertical-align: middle;\n",
       "    }\n",
       "\n",
       "    .dataframe tbody tr th {\n",
       "        vertical-align: top;\n",
       "    }\n",
       "\n",
       "    .dataframe thead th {\n",
       "        text-align: right;\n",
       "    }\n",
       "</style>\n",
       "<table border=\"1\" class=\"dataframe\">\n",
       "  <thead>\n",
       "    <tr style=\"text-align: right;\">\n",
       "      <th></th>\n",
       "      <th>Position</th>\n",
       "      <th>Level</th>\n",
       "      <th>Salary</th>\n",
       "    </tr>\n",
       "  </thead>\n",
       "  <tbody>\n",
       "    <tr>\n",
       "      <th>0</th>\n",
       "      <td>Business Analyst</td>\n",
       "      <td>1</td>\n",
       "      <td>45000</td>\n",
       "    </tr>\n",
       "    <tr>\n",
       "      <th>1</th>\n",
       "      <td>Junior Consultant</td>\n",
       "      <td>2</td>\n",
       "      <td>50000</td>\n",
       "    </tr>\n",
       "    <tr>\n",
       "      <th>2</th>\n",
       "      <td>Senior Consultant</td>\n",
       "      <td>3</td>\n",
       "      <td>60000</td>\n",
       "    </tr>\n",
       "    <tr>\n",
       "      <th>3</th>\n",
       "      <td>Manager</td>\n",
       "      <td>4</td>\n",
       "      <td>80000</td>\n",
       "    </tr>\n",
       "    <tr>\n",
       "      <th>4</th>\n",
       "      <td>Country Manager</td>\n",
       "      <td>5</td>\n",
       "      <td>110000</td>\n",
       "    </tr>\n",
       "    <tr>\n",
       "      <th>5</th>\n",
       "      <td>Region Manager</td>\n",
       "      <td>6</td>\n",
       "      <td>150000</td>\n",
       "    </tr>\n",
       "    <tr>\n",
       "      <th>6</th>\n",
       "      <td>Partner</td>\n",
       "      <td>7</td>\n",
       "      <td>200000</td>\n",
       "    </tr>\n",
       "    <tr>\n",
       "      <th>7</th>\n",
       "      <td>Senior Partner</td>\n",
       "      <td>8</td>\n",
       "      <td>300000</td>\n",
       "    </tr>\n",
       "    <tr>\n",
       "      <th>8</th>\n",
       "      <td>C-level</td>\n",
       "      <td>9</td>\n",
       "      <td>500000</td>\n",
       "    </tr>\n",
       "    <tr>\n",
       "      <th>9</th>\n",
       "      <td>CEO</td>\n",
       "      <td>10</td>\n",
       "      <td>1000000</td>\n",
       "    </tr>\n",
       "  </tbody>\n",
       "</table>\n",
       "</div>"
      ],
      "text/plain": [
       "            Position  Level   Salary\n",
       "0   Business Analyst      1    45000\n",
       "1  Junior Consultant      2    50000\n",
       "2  Senior Consultant      3    60000\n",
       "3            Manager      4    80000\n",
       "4    Country Manager      5   110000\n",
       "5     Region Manager      6   150000\n",
       "6            Partner      7   200000\n",
       "7     Senior Partner      8   300000\n",
       "8            C-level      9   500000\n",
       "9                CEO     10  1000000"
      ]
     },
     "execution_count": 45,
     "metadata": {},
     "output_type": "execute_result"
    }
   ],
   "source": [
    "dataset"
   ]
  },
  {
   "cell_type": "code",
   "execution_count": 46,
   "id": "842e959c",
   "metadata": {},
   "outputs": [],
   "source": [
    "#independent variable matrix\n",
    "\n",
    "#X=dataset.iloc[:,1].values\n",
    "X=dataset.iloc[:,1:2].values\n",
    "#We write this way bcoz we dont want X to be a vector"
   ]
  },
  {
   "cell_type": "code",
   "execution_count": 47,
   "id": "56303161",
   "metadata": {},
   "outputs": [
    {
     "data": {
      "text/plain": [
       "array([[ 1],\n",
       "       [ 2],\n",
       "       [ 3],\n",
       "       [ 4],\n",
       "       [ 5],\n",
       "       [ 6],\n",
       "       [ 7],\n",
       "       [ 8],\n",
       "       [ 9],\n",
       "       [10]], dtype=int64)"
      ]
     },
     "execution_count": 47,
     "metadata": {},
     "output_type": "execute_result"
    }
   ],
   "source": [
    "X"
   ]
  },
  {
   "cell_type": "code",
   "execution_count": 48,
   "id": "c3fe71c6",
   "metadata": {},
   "outputs": [],
   "source": [
    "#dependent variable matrix\n",
    "Y=dataset.iloc[:,2].values"
   ]
  },
  {
   "cell_type": "code",
   "execution_count": 49,
   "id": "be41b3be",
   "metadata": {},
   "outputs": [
    {
     "data": {
      "text/plain": [
       "array([  45000,   50000,   60000,   80000,  110000,  150000,  200000,\n",
       "        300000,  500000, 1000000], dtype=int64)"
      ]
     },
     "execution_count": 49,
     "metadata": {},
     "output_type": "execute_result"
    }
   ],
   "source": [
    "Y"
   ]
  },
  {
   "cell_type": "code",
   "execution_count": 50,
   "id": "247f1023",
   "metadata": {},
   "outputs": [],
   "source": [
    "#feature scaling to wipe out huge differences in data, standardisation and normalization.\n",
    "\n",
    "from sklearn.preprocessing import StandardScaler"
   ]
  },
  {
   "cell_type": "code",
   "execution_count": 51,
   "id": "aaf64189",
   "metadata": {},
   "outputs": [],
   "source": [
    "# sc_x = StandardScaler()\n",
    "# X = sc_x.fit_transform(X)"
   ]
  },
  {
   "cell_type": "code",
   "execution_count": 52,
   "id": "95676e49",
   "metadata": {},
   "outputs": [],
   "source": [
    "sc_y = StandardScaler()\n",
    "# Y = sc_x.fit_transform(np.array([Y]))\n",
    "Y = sc_y.fit_transform(Y.reshape(-1, 1))  # Reshape Y to a column vector and then scale it"
   ]
  },
  {
   "cell_type": "code",
   "execution_count": 53,
   "id": "22b434f5",
   "metadata": {},
   "outputs": [],
   "source": [
    "#STEP 2 : Fitting SVR to the dataset\n",
    "\n",
    "from sklearn.svm import SVR\n",
    "regressor = SVR(kernel = 'rbf')"
   ]
  },
  {
   "cell_type": "code",
   "execution_count": 54,
   "id": "87597991",
   "metadata": {},
   "outputs": [
    {
     "data": {
      "text/plain": [
       "SVR()"
      ]
     },
     "execution_count": 54,
     "metadata": {},
     "output_type": "execute_result"
    }
   ],
   "source": [
    "#converting 2D Y array back to 1D array\n",
    "Y = Y.flatten()\n",
    "regressor.fit(X, Y)"
   ]
  },
  {
   "cell_type": "code",
   "execution_count": 55,
   "id": "6beb8ea4",
   "metadata": {},
   "outputs": [
    {
     "data": {
      "image/png": "[encoded data removed]",
      "text/plain": [
       "<Figure size 432x288 with 1 Axes>"
      ]
     },
     "metadata": {
      "needs_background": "light"
     },
     "output_type": "display_data"
    }
   ],
   "source": [
    "#STEP 3 : Visializing the Results\n",
    "\n",
    "plt.scatter(X, Y, color = 'red', s = 10)\n",
    "plt.plot(X, regressor.predict(X), color = 'blue')\n",
    "plt.title(\"Truth or Bluff (SVR)\")\n",
    "plt.xlabel(\"Position Level\")\n",
    "plt.ylabel(\"Salary\")\n",
    "plt.show()"
   ]
  },
  {
   "cell_type": "code",
   "execution_count": 56,
   "id": "9701bb9a",
   "metadata": {},
   "outputs": [],
   "source": [
    "#STEP 4 : Predicting a new result\n",
    "\n",
    "# y_pred = sc_y.inverse_transform(regressor.predict(sc_x.transform(np.array([[6.5]]))))\n",
    "y_pred = sc_y.inverse_transform(regressor.predict(np.array([[6.5]])))"
   ]
  },
  {
   "cell_type": "code",
   "execution_count": 57,
   "id": "3027c64b",
   "metadata": {},
   "outputs": [
    {
     "name": "stdout",
     "output_type": "stream",
     "text": [
      "[170370.0204065]\n"
     ]
    }
   ],
   "source": [
    "print(y_pred)"
   ]
  },
  {
   "cell_type": "code",
   "execution_count": null,
   "id": "94742a98",
   "metadata": {},
   "outputs": [],
   "source": [
    "#done"
   ]
  }
 ],
 "metadata": {
  "kernelspec": {
   "display_name": "Python 3",
   "language": "python",
   "name": "python3"
  },
  "language_info": {
   "codemirror_mode": {
    "name": "ipython",
    "version": 3
   },
   "file_extension": ".py",
   "mimetype": "text/x-python",
   "name": "python",
   "nbconvert_exporter": "python",
   "pygments_lexer": "ipython3",
   "version": "3.8.8"
  }
 },
 "nbformat": 4,
 "nbformat_minor": 5
}
